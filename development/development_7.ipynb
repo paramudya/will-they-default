{
 "cells": [
  {
   "cell_type": "code",
   "execution_count": 1,
   "metadata": {
    "ExecuteTime": {
     "end_time": "2021-09-20T06:11:40.198560Z",
     "start_time": "2021-09-20T06:11:40.182591Z"
    }
   },
   "outputs": [],
   "source": [
    "import sys\n",
    "sys.path.append(\"..\") #to accomodate the ordinal.py that is located in the directory above"
   ]
  },
  {
   "cell_type": "code",
   "execution_count": 42,
   "metadata": {
    "ExecuteTime": {
     "end_time": "2021-09-20T07:26:42.915513Z",
     "start_time": "2021-09-20T07:26:42.884603Z"
    }
   },
   "outputs": [],
   "source": [
    "import numpy as np\n",
    "import pandas as pd\n",
    "import matplotlib.pyplot as plt\n",
    "import xgboost\n",
    "from math import log, ceil \n",
    "import seaborn as sns\n",
    "import json\n",
    "\n",
    "from ordinal import Ordinal #directory above\n",
    "\n",
    "from scipy.stats import pearsonr\n",
    "\n",
    "from sklearn.preprocessing import OneHotEncoder\n",
    "from sklearn.model_selection import train_test_split, GridSearchCV\n",
    "from sklearn.linear_model import LogisticRegression\n",
    "from sklearn.ensemble import RandomForestClassifier\n",
    "from sklearn.feature_selection import SelectFromModel\n",
    "from xgboost import XGBClassifier\n",
    "from sklearn.impute import SimpleImputer\n",
    "\n",
    "from sklearn.datasets import make_blobs\n",
    "from sklearn.model_selection import RepeatedStratifiedKFold\n",
    "from sklearn.model_selection import GridSearchCV\n",
    "from sklearn.linear_model import LogisticRegression\n",
    "from sklearn.ensemble import GradientBoostingClassifier\n",
    "from xverse.transformer import WOE\n",
    "# from sklearn.feature_selection import SelectKBest, mutual_info_classif, RFE\n",
    "import pickle\n",
    "\n",
    "from imblearn import FunctionSampler\n",
    "\n",
    "from sklearn.compose import ColumnTransformer\n",
    "from sklearn.pipeline import Pipeline,TransformerMixin\n",
    "from sklearn.preprocessing import StandardScaler,FunctionTransformer\n",
    "\n",
    "from sklearn import metrics\n",
    "from sklearn.model_selection import cross_val_score\n"
   ]
  },
  {
   "cell_type": "markdown",
   "metadata": {},
   "source": [
    "### data reading"
   ]
  },
  {
   "cell_type": "code",
   "execution_count": 43,
   "metadata": {
    "ExecuteTime": {
     "end_time": "2021-09-20T07:26:43.425178Z",
     "start_time": "2021-09-20T07:26:43.168325Z"
    }
   },
   "outputs": [],
   "source": [
    "df=pd.read_csv(\"dataset/credit_risk_dataset.csv\")\n",
    "df=df[~df.duplicated(keep='first')]\n",
    "# df=df.sample(1000)\n",
    "\n",
    "SEED=133"
   ]
  },
  {
   "cell_type": "markdown",
   "metadata": {},
   "source": [
    "potential outliers on person_emp_length (123 years? really?) and person_age (how many live up to even 144 these days)"
   ]
  },
  {
   "cell_type": "markdown",
   "metadata": {},
   "source": [
    "defining feature types:"
   ]
  },
  {
   "cell_type": "code",
   "execution_count": 32,
   "metadata": {
    "ExecuteTime": {
     "end_time": "2021-09-20T07:15:54.867630Z",
     "start_time": "2021-09-20T07:15:54.844669Z"
    }
   },
   "outputs": [
    {
     "data": {
      "text/plain": [
       "['person_emp_length', 'loan_int_rate']"
      ]
     },
     "execution_count": 32,
     "metadata": {},
     "output_type": "execute_result"
    }
   ],
   "source": [
    "list(df.columns[df.isnull().any()])"
   ]
  },
  {
   "cell_type": "code",
   "execution_count": 41,
   "metadata": {
    "ExecuteTime": {
     "end_time": "2021-09-20T07:17:40.937877Z",
     "start_time": "2021-09-20T07:17:40.902933Z"
    }
   },
   "outputs": [
    {
     "data": {
      "text/plain": [
       "['loan_int_rate', 'person_emp_length']"
      ]
     },
     "execution_count": 41,
     "metadata": {},
     "output_type": "execute_result"
    }
   ],
   "source": [
    "list(set(df.select_dtypes(np.number).columns).intersection(set(df.columns[df.isnull().any()])))"
   ]
  },
  {
   "cell_type": "code",
   "execution_count": 13,
   "metadata": {
    "ExecuteTime": {
     "end_time": "2021-09-20T06:12:08.755933Z",
     "start_time": "2021-09-20T06:12:08.701781Z"
    }
   },
   "outputs": [],
   "source": [
    "obje = df.select_dtypes(np.object) #object dtypes\n",
    "nume_and_target=df.select_dtypes(np.number) #number dtypes \n",
    "\n",
    "target = ['loan_status']\n",
    "ordi = ['loan_grade'] #categorical feature to be ordinal\n",
    "cate = list(obje[obje.columns.difference(ordi)].columns) #categorical features to be dummy vars\n",
    "nume = list(nume_and_target[nume_and_target.columns.difference(target)].columns) #numerical features without target\n",
    "\n",
    "all_feat = nume + cate + ordi\n",
    "\n",
    "# columns_with_nan=df[df.columns[df.isnull().any()]].isnull().sum() * 100 / df.shape[0]\n",
    "\n",
    "# columns_to_impute = columns_with_nan[columns_with_nan<67].index.tolist() #OVER THAN 64, DROPPED\n",
    "nan_cols=list(set(nume).intersection(set(columns_to_impute)))"
   ]
  },
  {
   "cell_type": "markdown",
   "metadata": {},
   "source": [
    "#### split"
   ]
  },
  {
   "cell_type": "code",
   "execution_count": 14,
   "metadata": {
    "ExecuteTime": {
     "end_time": "2021-09-20T06:12:09.060003Z",
     "start_time": "2021-09-20T06:12:09.025084Z"
    }
   },
   "outputs": [],
   "source": [
    "X_train, X_holdout, y_train, y_holdout = train_test_split(\n",
    "df.drop('loan_status',axis=1), df['loan_status'], test_size=0.2, random_state=SEED)"
   ]
  },
  {
   "cell_type": "code",
   "execution_count": 55,
   "metadata": {
    "ExecuteTime": {
     "end_time": "2021-09-20T07:43:59.516640Z",
     "start_time": "2021-09-20T07:43:59.507728Z"
    }
   },
   "outputs": [
    {
     "data": {
      "text/plain": [
       "['cb_person_cred_hist_length',\n",
       " 'loan_amnt',\n",
       " 'loan_int_rate',\n",
       " 'loan_percent_income',\n",
       " 'person_age',\n",
       " 'person_emp_length',\n",
       " 'person_income']"
      ]
     },
     "execution_count": 55,
     "metadata": {},
     "output_type": "execute_result"
    }
   ],
   "source": [
    "nume"
   ]
  },
  {
   "cell_type": "code",
   "execution_count": 73,
   "metadata": {
    "ExecuteTime": {
     "end_time": "2021-09-20T07:54:03.677612Z",
     "start_time": "2021-09-20T07:54:03.668421Z"
    }
   },
   "outputs": [
    {
     "data": {
      "text/plain": [
       "{2: 'asd', 32: 'asd', 3232: 'asd'}"
      ]
     },
     "execution_count": 73,
     "metadata": {},
     "output_type": "execute_result"
    }
   ],
   "source": [
    "# s={}\n",
    "s.update({3232:'asd'})\n",
    "s"
   ]
  },
  {
   "cell_type": "code",
   "execution_count": null,
   "metadata": {},
   "outputs": [],
   "source": []
  },
  {
   "cell_type": "code",
   "execution_count": null,
   "metadata": {},
   "outputs": [],
   "source": [
    "from sklearn.pipeline import TransformerMixin\n",
    "\n",
    "class Ordinal(TransformerMixin):\n",
    "    def __init__(self,nume):\n",
    "        self.nume=nume\n",
    "\n",
    "    def fit(self, X, y=None):\n",
    "        self.batas={}\n",
    "        for feat in self.nume:\n",
    "            self.batas.update({feat:(outlier_treatment(X[feat]))})\n",
    "        return self\n",
    "\n",
    "    def transform(self, X):\n",
    "        for feat in self.nume:\n",
    "            X[feat] = X[feat].map(self.ordinal_ranking)\n",
    "        return X"
   ]
  },
  {
   "cell_type": "code",
   "execution_count": 63,
   "metadata": {
    "ExecuteTime": {
     "end_time": "2021-09-20T07:50:54.835252Z",
     "start_time": "2021-09-20T07:50:54.798348Z"
    }
   },
   "outputs": [
    {
     "data": {
      "text/plain": [
       "(9.5, 154.5)"
      ]
     },
     "execution_count": 63,
     "metadata": {},
     "output_type": "execute_result"
    }
   ],
   "source": [
    "def outlier_treatment(datacolumn):\n",
    "    sorted(datacolumn)\n",
    "    Q1,Q3 = np.percentile(datacolumn , [25,75])\n",
    "    IQR = Q3 - Q1\n",
    "    lower_range = min(datacolumn) - (1.5 * IQR)\n",
    "    upper_range = max(datacolumn) + (1.5 * IQR)\n",
    "    return lower_range,upper_range\n",
    "    \n",
    "outlier_treatment(df.person_age)"
   ]
  },
  {
   "cell_type": "markdown",
   "metadata": {},
   "source": [
    "### data preprocessing"
   ]
  },
  {
   "cell_type": "markdown",
   "metadata": {},
   "source": [
    "# funcs "
   ]
  },
  {
   "cell_type": "code",
   "execution_count": 15,
   "metadata": {
    "ExecuteTime": {
     "end_time": "2021-09-20T06:12:09.514938Z",
     "start_time": "2021-09-20T06:12:09.503931Z"
    }
   },
   "outputs": [],
   "source": [
    "def print_evaluate(true, predicted):\n",
    "    auc = metrics.roc_auc_score(true, predicted)\n",
    "    accuracy = metrics.accuracy_score(true, predicted)\n",
    "    print('Accuracy:', accuracy)\n",
    "    print('AUC:', auc)\n",
    "    print('__________________________________')\n",
    "    \n",
    "def evaluate(true, predicted):\n",
    "    auc = metrics.roc_auc_score(true, predicted)\n",
    "    accuracy = metrics.accuracy_score(true, predicted)\n",
    "    precision = metrics.precision_score(true, predicted)\n",
    "    recall = metrics.recall_score(true, predicted)\n",
    "\n",
    "    return accuracy, auc, precision, recall"
   ]
  },
  {
   "cell_type": "markdown",
   "metadata": {},
   "source": [
    "# pipeline"
   ]
  },
  {
   "cell_type": "code",
   "execution_count": 16,
   "metadata": {
    "ExecuteTime": {
     "end_time": "2021-09-20T06:12:09.844776Z",
     "start_time": "2021-09-20T06:12:09.834793Z"
    }
   },
   "outputs": [],
   "source": [
    "nume_pipe = Pipeline(steps=[\n",
    "    ('imputer_nume', SimpleImputer(missing_values=np.nan,strategy='median'))\n",
    "])\n",
    "\n",
    "ordi_pipe = Pipeline(steps=[\n",
    "    ('ordinal', Ordinal(ordi)),\n",
    "    ('imputer_ordi', SimpleImputer(missing_values=np.nan,strategy='mean'))\n",
    "])\n",
    "\n",
    "cate_pipe = Pipeline(steps=[\n",
    "    ('scaler_cate', OneHotEncoder(handle_unknown='ignore')),\n",
    "])\n",
    "\n",
    "preprocess = ColumnTransformer(transformers=[\n",
    "    ('nan', nan_pipe, nume-ordi),\n",
    "    ('ordi', ordi_pipe, ordi),\n",
    "    ('cate', cate_pipe, cate),\n",
    "], remainder='passthrough')\n",
    "\n",
    "xgb = XGBClassifier(min_child_weight = 3,\n",
    "                    subsample = 0.5,\n",
    "                    random_state = SEED)\n",
    "\n",
    "full_pipe = Pipeline(steps=[\n",
    "    ('preprocess', preprocess),\n",
    "     ('model', xgb)])"
   ]
  },
  {
   "cell_type": "markdown",
   "metadata": {},
   "source": [
    "**missing values handling**\n",
    "\n",
    "Each category of the columns are handling this problem uniquely:\n",
    "- Categorical columns **do not explicitly handle** it because it was actually already handle by the brilliant feature 'handle_unknown' offered by sklearn's OneHotEncoder and setting it to 'ignore': new values that weren't seen on train set will just not be assigned to any of the dummy columns of the feature (all 0s).\n",
    "- Numerical columns handle it with **'median'** method as usual.\n",
    "- Ordinal columns replace the missing values with **'mean'**, because the distribution of ordinal values are sometimes far from Gaussian; and when the first number already represents more than half of the data, then the value will be set to its first number, not counting at all the values on the other extreme that might also contribute. The 'mean' method seems fairer for this case (and other more usual cases too)."
   ]
  },
  {
   "cell_type": "markdown",
   "metadata": {
    "ExecuteTime": {
     "end_time": "2021-09-20T07:42:57.865958Z",
     "start_time": "2021-09-20T07:42:57.850006Z"
    }
   },
   "source": [
    "**outliers handling**\n",
    "\n",
    "Each category of the columns are handling this problem uniquely:\n",
    "- Categorical columns **do not explicitly handle** it because it was actually already handle by the brilliant feature 'handle_unknown' offered by sklearn's OneHotEncoder and setting it to 'ignore': new values that weren't seen on train set will just not be assigned to any of the dummy columns of the feature (all 0s).\n",
    "- Numerical columns handle it with **'median'** method as usual.\n",
    "- Ordinal columns replace the missing values with **'mean'**, because the distribution of ordinal values are sometimes far from Gaussian; and when the first number already represents more than half of the data, then the value will be set to its first number, not counting at all the values on the other extreme that might also contribute. The 'mean' method seems fairer for this case (and other more usual cases too)."
   ]
  },
  {
   "cell_type": "code",
   "execution_count": 51,
   "metadata": {
    "ExecuteTime": {
     "end_time": "2021-09-20T07:34:28.462396Z",
     "start_time": "2021-09-20T07:34:28.391421Z"
    },
    "scrolled": true
   },
   "outputs": [
    {
     "data": {
      "text/html": [
       "<div>\n",
       "<style scoped>\n",
       "    .dataframe tbody tr th:only-of-type {\n",
       "        vertical-align: middle;\n",
       "    }\n",
       "\n",
       "    .dataframe tbody tr th {\n",
       "        vertical-align: top;\n",
       "    }\n",
       "\n",
       "    .dataframe thead th {\n",
       "        text-align: right;\n",
       "    }\n",
       "</style>\n",
       "<table border=\"1\" class=\"dataframe\">\n",
       "  <thead>\n",
       "    <tr style=\"text-align: right;\">\n",
       "      <th></th>\n",
       "      <th>person_age</th>\n",
       "      <th>person_income</th>\n",
       "      <th>person_home_ownership</th>\n",
       "      <th>person_emp_length</th>\n",
       "      <th>loan_intent</th>\n",
       "      <th>loan_amnt</th>\n",
       "      <th>loan_int_rate</th>\n",
       "      <th>loan_status</th>\n",
       "      <th>loan_percent_income</th>\n",
       "      <th>cb_person_default_on_file</th>\n",
       "      <th>cb_person_cred_hist_length</th>\n",
       "    </tr>\n",
       "    <tr>\n",
       "      <th>loan_grade</th>\n",
       "      <th></th>\n",
       "      <th></th>\n",
       "      <th></th>\n",
       "      <th></th>\n",
       "      <th></th>\n",
       "      <th></th>\n",
       "      <th></th>\n",
       "      <th></th>\n",
       "      <th></th>\n",
       "      <th></th>\n",
       "      <th></th>\n",
       "    </tr>\n",
       "  </thead>\n",
       "  <tbody>\n",
       "    <tr>\n",
       "      <th>A</th>\n",
       "      <td>10703</td>\n",
       "      <td>10703</td>\n",
       "      <td>10703</td>\n",
       "      <td>10301</td>\n",
       "      <td>10703</td>\n",
       "      <td>10703</td>\n",
       "      <td>9713</td>\n",
       "      <td>10703</td>\n",
       "      <td>10703</td>\n",
       "      <td>10703</td>\n",
       "      <td>10703</td>\n",
       "    </tr>\n",
       "    <tr>\n",
       "      <th>B</th>\n",
       "      <td>10387</td>\n",
       "      <td>10387</td>\n",
       "      <td>10387</td>\n",
       "      <td>10124</td>\n",
       "      <td>10387</td>\n",
       "      <td>10387</td>\n",
       "      <td>9337</td>\n",
       "      <td>10387</td>\n",
       "      <td>10387</td>\n",
       "      <td>10387</td>\n",
       "      <td>10387</td>\n",
       "    </tr>\n",
       "    <tr>\n",
       "      <th>C</th>\n",
       "      <td>6438</td>\n",
       "      <td>6438</td>\n",
       "      <td>6438</td>\n",
       "      <td>6303</td>\n",
       "      <td>6438</td>\n",
       "      <td>6438</td>\n",
       "      <td>5809</td>\n",
       "      <td>6438</td>\n",
       "      <td>6438</td>\n",
       "      <td>6438</td>\n",
       "      <td>6438</td>\n",
       "    </tr>\n",
       "    <tr>\n",
       "      <th>D</th>\n",
       "      <td>3620</td>\n",
       "      <td>3620</td>\n",
       "      <td>3620</td>\n",
       "      <td>3550</td>\n",
       "      <td>3620</td>\n",
       "      <td>3620</td>\n",
       "      <td>3309</td>\n",
       "      <td>3620</td>\n",
       "      <td>3620</td>\n",
       "      <td>3620</td>\n",
       "      <td>3620</td>\n",
       "    </tr>\n",
       "    <tr>\n",
       "      <th>E</th>\n",
       "      <td>963</td>\n",
       "      <td>963</td>\n",
       "      <td>963</td>\n",
       "      <td>951</td>\n",
       "      <td>963</td>\n",
       "      <td>963</td>\n",
       "      <td>880</td>\n",
       "      <td>963</td>\n",
       "      <td>963</td>\n",
       "      <td>963</td>\n",
       "      <td>963</td>\n",
       "    </tr>\n",
       "    <tr>\n",
       "      <th>F</th>\n",
       "      <td>241</td>\n",
       "      <td>241</td>\n",
       "      <td>241</td>\n",
       "      <td>236</td>\n",
       "      <td>241</td>\n",
       "      <td>241</td>\n",
       "      <td>214</td>\n",
       "      <td>241</td>\n",
       "      <td>241</td>\n",
       "      <td>241</td>\n",
       "      <td>241</td>\n",
       "    </tr>\n",
       "    <tr>\n",
       "      <th>G</th>\n",
       "      <td>64</td>\n",
       "      <td>64</td>\n",
       "      <td>64</td>\n",
       "      <td>64</td>\n",
       "      <td>64</td>\n",
       "      <td>64</td>\n",
       "      <td>59</td>\n",
       "      <td>64</td>\n",
       "      <td>64</td>\n",
       "      <td>64</td>\n",
       "      <td>64</td>\n",
       "    </tr>\n",
       "  </tbody>\n",
       "</table>\n",
       "</div>"
      ],
      "text/plain": [
       "            person_age  person_income  person_home_ownership  \\\n",
       "loan_grade                                                     \n",
       "A                10703          10703                  10703   \n",
       "B                10387          10387                  10387   \n",
       "C                 6438           6438                   6438   \n",
       "D                 3620           3620                   3620   \n",
       "E                  963            963                    963   \n",
       "F                  241            241                    241   \n",
       "G                   64             64                     64   \n",
       "\n",
       "            person_emp_length  loan_intent  loan_amnt  loan_int_rate  \\\n",
       "loan_grade                                                             \n",
       "A                       10301        10703      10703           9713   \n",
       "B                       10124        10387      10387           9337   \n",
       "C                        6303         6438       6438           5809   \n",
       "D                        3550         3620       3620           3309   \n",
       "E                         951          963        963            880   \n",
       "F                         236          241        241            214   \n",
       "G                          64           64         64             59   \n",
       "\n",
       "            loan_status  loan_percent_income  cb_person_default_on_file  \\\n",
       "loan_grade                                                                \n",
       "A                 10703                10703                      10703   \n",
       "B                 10387                10387                      10387   \n",
       "C                  6438                 6438                       6438   \n",
       "D                  3620                 3620                       3620   \n",
       "E                   963                  963                        963   \n",
       "F                   241                  241                        241   \n",
       "G                    64                   64                         64   \n",
       "\n",
       "            cb_person_cred_hist_length  \n",
       "loan_grade                              \n",
       "A                                10703  \n",
       "B                                10387  \n",
       "C                                 6438  \n",
       "D                                 3620  \n",
       "E                                  963  \n",
       "F                                  241  \n",
       "G                                   64  "
      ]
     },
     "execution_count": 51,
     "metadata": {},
     "output_type": "execute_result"
    }
   ],
   "source": [
    "df.groupby('loan_grade').count()"
   ]
  },
  {
   "cell_type": "code",
   "execution_count": 17,
   "metadata": {
    "ExecuteTime": {
     "end_time": "2021-09-20T06:12:10.502656Z",
     "start_time": "2021-09-20T06:12:10.495674Z"
    }
   },
   "outputs": [],
   "source": [
    "param_space = {\n",
    "    \"model__eta\": [0.3,0.4],\n",
    "    \"model__gamma\": [2,4],\n",
    "    \"model__n_estimators\": [800,1100],\n",
    "    \"model__max_depth\": [10,20],\n",
    "}\n",
    "\n",
    "clf = GridSearchCV(full_pipe, \n",
    "                   param_space, \n",
    "                   scoring='roc_auc',\n",
    "                   n_jobs=-1,\n",
    "                   cv=4, \n",
    "                   refit=True,verbose=2)"
   ]
  },
  {
   "cell_type": "code",
   "execution_count": 18,
   "metadata": {
    "ExecuteTime": {
     "end_time": "2021-09-20T06:34:32.491195Z",
     "start_time": "2021-09-20T06:12:11.280213Z"
    }
   },
   "outputs": [
    {
     "name": "stdout",
     "output_type": "stream",
     "text": [
      "Fitting 4 folds for each of 16 candidates, totalling 64 fits\n"
     ]
    },
    {
     "name": "stderr",
     "output_type": "stream",
     "text": [
      "[Parallel(n_jobs=-1)]: Using backend LokyBackend with 8 concurrent workers.\n",
      "[Parallel(n_jobs=-1)]: Done  25 tasks      | elapsed:  9.3min\n",
      "[Parallel(n_jobs=-1)]: Done  64 out of  64 | elapsed: 21.7min finished\n",
      "C:\\Users\\4\\anaconda3\\lib\\site-packages\\xgboost\\sklearn.py:1146: UserWarning: The use of label encoder in XGBClassifier is deprecated and will be removed in a future release. To remove this warning, do the following: 1) Pass option use_label_encoder=False when constructing XGBClassifier object; and 2) Encode your labels (y) as integers starting with 0, i.e. 0, 1, 2, ..., [num_class - 1].\n",
      "  warnings.warn(label_encoder_deprecation_msg, UserWarning)\n"
     ]
    },
    {
     "name": "stdout",
     "output_type": "stream",
     "text": [
      "[13:33:55] WARNING: C:/Users/Administrator/workspace/xgboost-win64_release_1.4.0/src/learner.cc:1095: Starting in XGBoost 1.3.0, the default evaluation metric used with the objective 'binary:logistic' was changed from 'error' to 'logloss'. Explicitly set eval_metric if you'd like to restore the old behavior.\n",
      "Best: 0.940324 using {'model__eta': 0.3, 'model__gamma': 4, 'model__max_depth': 10, 'model__n_estimators': 800}\n"
     ]
    }
   ],
   "source": [
    "clf.fit(X_train, y_train)\n",
    "\n",
    "print(\"Best: %f using %s\" % (clf.best_score_, clf.best_params_))"
   ]
  },
  {
   "cell_type": "code",
   "execution_count": 19,
   "metadata": {
    "ExecuteTime": {
     "end_time": "2021-09-20T06:44:11.443388Z",
     "start_time": "2021-09-20T06:44:10.613107Z"
    }
   },
   "outputs": [
    {
     "data": {
      "text/html": [
       "<div>\n",
       "<style scoped>\n",
       "    .dataframe tbody tr th:only-of-type {\n",
       "        vertical-align: middle;\n",
       "    }\n",
       "\n",
       "    .dataframe tbody tr th {\n",
       "        vertical-align: top;\n",
       "    }\n",
       "\n",
       "    .dataframe thead tr th {\n",
       "        text-align: left;\n",
       "    }\n",
       "</style>\n",
       "<table border=\"1\" class=\"dataframe\">\n",
       "  <thead>\n",
       "    <tr>\n",
       "      <th></th>\n",
       "      <th>train data</th>\n",
       "      <th colspan=\"4\" halign=\"left\">train metrics</th>\n",
       "      <th colspan=\"4\" halign=\"left\">validation metrics</th>\n",
       "    </tr>\n",
       "    <tr>\n",
       "      <th></th>\n",
       "      <th></th>\n",
       "      <th>Accuracy</th>\n",
       "      <th>AUC</th>\n",
       "      <th>Precision</th>\n",
       "      <th>Recall</th>\n",
       "      <th>Accuracy</th>\n",
       "      <th>AUC</th>\n",
       "      <th>Precision</th>\n",
       "      <th>Recall</th>\n",
       "    </tr>\n",
       "  </thead>\n",
       "  <tbody>\n",
       "    <tr>\n",
       "      <th>0</th>\n",
       "      <td>all feats</td>\n",
       "      <td>0.978212</td>\n",
       "      <td>0.952859</td>\n",
       "      <td>0.991707</td>\n",
       "      <td>0.907839</td>\n",
       "      <td>0.928285</td>\n",
       "      <td>0.864063</td>\n",
       "      <td>0.908163</td>\n",
       "      <td>0.749474</td>\n",
       "    </tr>\n",
       "  </tbody>\n",
       "</table>\n",
       "</div>"
      ],
      "text/plain": [
       "  train data train metrics                               validation metrics  \\\n",
       "                  Accuracy       AUC Precision    Recall           Accuracy   \n",
       "0  all feats      0.978212  0.952859  0.991707  0.907839           0.928285   \n",
       "\n",
       "                                 \n",
       "        AUC Precision    Recall  \n",
       "0  0.864063  0.908163  0.749474  "
      ]
     },
     "execution_count": 19,
     "metadata": {},
     "output_type": "execute_result"
    }
   ],
   "source": [
    "test_pred_all = clf.best_estimator_.predict(X_holdout)\n",
    "test_pred_proba_all = clf.best_estimator_.predict_proba(X_holdout)\n",
    "\n",
    "train_pred_all = clf.best_estimator_.predict(X_train)\n",
    "\n",
    "lis_train_val_acc_all_logreg=list(evaluate(y_train, train_pred_all))+list(evaluate(y_holdout, test_pred_all))\n",
    "\n",
    "index = pd.MultiIndex.from_product([['train metrics', 'validation metrics'], ['Accuracy', 'AUC','Precision','Recall']])\n",
    "result_logreg_opt = pd.DataFrame([lis_train_val_acc_all_logreg], columns=index)\n",
    "result_logreg_opt.insert(loc=0, column='train data', value = ['all feats'])\n",
    "\n",
    "result_logreg_opt"
   ]
  },
  {
   "cell_type": "markdown",
   "metadata": {},
   "source": [
    "#### save model"
   ]
  },
  {
   "cell_type": "code",
   "execution_count": 20,
   "metadata": {
    "ExecuteTime": {
     "end_time": "2021-09-20T06:49:03.140472Z",
     "start_time": "2021-09-20T06:49:02.053455Z"
    }
   },
   "outputs": [],
   "source": [
    "MODELNAME = 'xgb_to_deploy.pkl'\n",
    "PREPROCESSNAME = 'pipe_to_deploy.pkl'\n",
    "\n",
    "final_model = clf.best_estimator_.named_steps['model']\n",
    "final_pipe = clf.best_estimator_.named_steps['preprocess']\n",
    "\n",
    "with open('../saved_models/'+MODELNAME, 'wb') as f: # save model\n",
    "    pickle.dump(final_model, f)\n",
    "    \n",
    "with open('../saved_models/'+PREPROCESSNAME, 'wb') as f: # save pipeline\n",
    "    pickle.dump(final_pipe, f)"
   ]
  },
  {
   "cell_type": "markdown",
   "metadata": {},
   "source": [
    "#### for production testing"
   ]
  },
  {
   "cell_type": "code",
   "execution_count": 21,
   "metadata": {
    "ExecuteTime": {
     "end_time": "2021-09-20T06:49:04.677551Z",
     "start_time": "2021-09-20T06:49:04.512518Z"
    },
    "scrolled": true
   },
   "outputs": [
    {
     "data": {
      "text/html": [
       "<div>\n",
       "<style scoped>\n",
       "    .dataframe tbody tr th:only-of-type {\n",
       "        vertical-align: middle;\n",
       "    }\n",
       "\n",
       "    .dataframe tbody tr th {\n",
       "        vertical-align: top;\n",
       "    }\n",
       "\n",
       "    .dataframe thead th {\n",
       "        text-align: right;\n",
       "    }\n",
       "</style>\n",
       "<table border=\"1\" class=\"dataframe\">\n",
       "  <thead>\n",
       "    <tr style=\"text-align: right;\">\n",
       "      <th></th>\n",
       "      <th>2312</th>\n",
       "      <th>3631</th>\n",
       "    </tr>\n",
       "  </thead>\n",
       "  <tbody>\n",
       "    <tr>\n",
       "      <th>person_age</th>\n",
       "      <td>30</td>\n",
       "      <td>28</td>\n",
       "    </tr>\n",
       "    <tr>\n",
       "      <th>person_income</th>\n",
       "      <td>82000</td>\n",
       "      <td>58000</td>\n",
       "    </tr>\n",
       "    <tr>\n",
       "      <th>person_home_ownership</th>\n",
       "      <td>MORTGAGE</td>\n",
       "      <td>MORTGAGE</td>\n",
       "    </tr>\n",
       "    <tr>\n",
       "      <th>person_emp_length</th>\n",
       "      <td>5.0</td>\n",
       "      <td>0.0</td>\n",
       "    </tr>\n",
       "    <tr>\n",
       "      <th>loan_intent</th>\n",
       "      <td>PERSONAL</td>\n",
       "      <td>VENTURE</td>\n",
       "    </tr>\n",
       "    <tr>\n",
       "      <th>loan_grade</th>\n",
       "      <td>A</td>\n",
       "      <td>C</td>\n",
       "    </tr>\n",
       "    <tr>\n",
       "      <th>loan_amnt</th>\n",
       "      <td>5000</td>\n",
       "      <td>12500</td>\n",
       "    </tr>\n",
       "    <tr>\n",
       "      <th>loan_int_rate</th>\n",
       "      <td>6.76</td>\n",
       "      <td>13.43</td>\n",
       "    </tr>\n",
       "    <tr>\n",
       "      <th>loan_percent_income</th>\n",
       "      <td>0.06</td>\n",
       "      <td>0.22</td>\n",
       "    </tr>\n",
       "    <tr>\n",
       "      <th>cb_person_default_on_file</th>\n",
       "      <td>N</td>\n",
       "      <td>N</td>\n",
       "    </tr>\n",
       "    <tr>\n",
       "      <th>cb_person_cred_hist_length</th>\n",
       "      <td>8</td>\n",
       "      <td>8</td>\n",
       "    </tr>\n",
       "    <tr>\n",
       "      <th>loan_status_predict</th>\n",
       "      <td>0</td>\n",
       "      <td>0</td>\n",
       "    </tr>\n",
       "    <tr>\n",
       "      <th>loan_status_proba</th>\n",
       "      <td>0.004476</td>\n",
       "      <td>0.007189</td>\n",
       "    </tr>\n",
       "  </tbody>\n",
       "</table>\n",
       "</div>"
      ],
      "text/plain": [
       "                                2312      3631\n",
       "person_age                        30        28\n",
       "person_income                  82000     58000\n",
       "person_home_ownership       MORTGAGE  MORTGAGE\n",
       "person_emp_length                5.0       0.0\n",
       "loan_intent                 PERSONAL   VENTURE\n",
       "loan_grade                         A         C\n",
       "loan_amnt                       5000     12500\n",
       "loan_int_rate                   6.76     13.43\n",
       "loan_percent_income             0.06      0.22\n",
       "cb_person_default_on_file          N         N\n",
       "cb_person_cred_hist_length         8         8\n",
       "loan_status_predict                0         0\n",
       "loan_status_proba           0.004476  0.007189"
      ]
     },
     "execution_count": 21,
     "metadata": {},
     "output_type": "execute_result"
    }
   ],
   "source": [
    "holdout_res=pd.concat([X_holdout.reset_index(drop=True),\n",
    "           pd.DataFrame(test_pred_all),\n",
    "           pd.DataFrame(test_pred_proba_all).loc[:,1].reset_index(drop=True)],\n",
    "           axis=1)\n",
    "holdout_res=holdout_res.rename(columns = {0:'loan_status_predict',1:'loan_status_proba'})\n",
    "holdout_res_sample=holdout_res.sample(2,random_state=SEED)\n",
    "holdout_res_sample.T"
   ]
  },
  {
   "cell_type": "markdown",
   "metadata": {},
   "source": [
    "the sample for testing the proba prediction on deployment:"
   ]
  },
  {
   "cell_type": "code",
   "execution_count": 22,
   "metadata": {
    "ExecuteTime": {
     "end_time": "2021-09-20T06:49:08.198501Z",
     "start_time": "2021-09-20T06:49:08.157519Z"
    }
   },
   "outputs": [
    {
     "data": {
      "text/plain": [
       "[{'person_age': 30,\n",
       "  'person_income': 82000,\n",
       "  'person_home_ownership': 'MORTGAGE',\n",
       "  'person_emp_length': 5.0,\n",
       "  'loan_intent': 'PERSONAL',\n",
       "  'loan_grade': 'A',\n",
       "  'loan_amnt': 5000,\n",
       "  'loan_int_rate': 6.76,\n",
       "  'loan_percent_income': 0.06,\n",
       "  'cb_person_default_on_file': 'N',\n",
       "  'cb_person_cred_hist_length': 8,\n",
       "  'loan_status_predict': 0,\n",
       "  'loan_status_proba': 0.004475969355553389},\n",
       " {'person_age': 28,\n",
       "  'person_income': 58000,\n",
       "  'person_home_ownership': 'MORTGAGE',\n",
       "  'person_emp_length': 0.0,\n",
       "  'loan_intent': 'VENTURE',\n",
       "  'loan_grade': 'C',\n",
       "  'loan_amnt': 12500,\n",
       "  'loan_int_rate': 13.43,\n",
       "  'loan_percent_income': 0.22,\n",
       "  'cb_person_default_on_file': 'N',\n",
       "  'cb_person_cred_hist_length': 8,\n",
       "  'loan_status_predict': 0,\n",
       "  'loan_status_proba': 0.007188670802861452}]"
      ]
     },
     "execution_count": 22,
     "metadata": {},
     "output_type": "execute_result"
    }
   ],
   "source": [
    "dic=holdout_res_sample.to_dict(orient='records')\n",
    "dic"
   ]
  },
  {
   "cell_type": "code",
   "execution_count": null,
   "metadata": {},
   "outputs": [],
   "source": []
  },
  {
   "cell_type": "code",
   "execution_count": null,
   "metadata": {},
   "outputs": [],
   "source": []
  },
  {
   "cell_type": "markdown",
   "metadata": {},
   "source": [
    "**modelling journey**  (my suggestion would be for you to jump into conclusion!)"
   ]
  },
  {
   "cell_type": "markdown",
   "metadata": {},
   "source": [
    "here's the result we got without outliers elimination, ordinalization, and CV tuning (gotta try!) -- 0.931986\t0.853581\n",
    "\n",
    "kalo pake elimination dan ordinalization di nb satunya dapet .9426 dan .8715\n",
    "\n",
    "WKWK outlier elimination ka ncuman butuh di development (training jd ga perlu2 bgt masuk pipeline--yg tjuannya mempermudah buat production)\n",
    "\n",
    "\n",
    "ordinal doesnt help much (without elimination) -- 0.932295\t0.853022\n",
    "\n",
    "ordinal with elim -- 0.930373\t0.849954\n",
    "no ordinal with elim -- 0.931642\t0.852045\n",
    "\n",
    ".\n",
    "better without elimination, ordinal not that much of a help either he. i will use ordinal for the sake of its utilization in pipeline and eliminate outliers elimination (makes model worse off and not even utilized in production)\n",
    "hasil tuning (rf xgb, gamma n & max depth n)\n",
    "\n",
    "conclusion: \n",
    "- **outlier elimination in training doesnt help, ordinal helps a tiny wee bit** (compared to just plain 1 hot) but I am putting it in for custom function and TransformerMixin's sake\n",
    "\n",
    "- **woe is not used** here as **xgb** without woe is **a lot better** than **logistic regression** with (and let alone without) **woe**, it was clearly evident during the development during the module 7 practice (and most likely because the utilization of woe loses so much valuable information in the process). results attached below:"
   ]
  },
  {
   "cell_type": "code",
   "execution_count": null,
   "metadata": {},
   "outputs": [],
   "source": []
  },
  {
   "cell_type": "code",
   "execution_count": 10,
   "metadata": {
    "ExecuteTime": {
     "end_time": "2021-09-19T14:36:03.631511Z",
     "start_time": "2021-09-19T14:36:03.243552Z"
    },
    "scrolled": false
   },
   "outputs": [
    {
     "data": {
      "image/png": "[encoded data removed]",
      "text/plain": [
       "<IPython.core.display.Image object>"
      ]
     },
     "execution_count": 10,
     "metadata": {},
     "output_type": "execute_result"
    }
   ],
   "source": [
    "from IPython.display import Image\n",
    "Image(filename='xgb_vs_logreg.png')"
   ]
  },
  {
   "cell_type": "markdown",
   "metadata": {},
   "source": [
    "test results for both alforithms and features (ones with WOE, selected featured based on their importance, and just ol' plain use all)"
   ]
  },
  {
   "cell_type": "code",
   "execution_count": null,
   "metadata": {},
   "outputs": [],
   "source": []
  }
 ],
 "metadata": {
  "kernelspec": {
   "display_name": "Python 3",
   "language": "python",
   "name": "python3"
  },
  "language_info": {
   "codemirror_mode": {
    "name": "ipython",
    "version": 3
   },
   "file_extension": ".py",
   "mimetype": "text/x-python",
   "name": "python",
   "nbconvert_exporter": "python",
   "pygments_lexer": "ipython3",
   "version": "3.8.5"
  }
 },
 "nbformat": 4,
 "nbformat_minor": 4
}
